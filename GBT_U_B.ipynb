{
 "cells": [
  {
   "cell_type": "code",
   "execution_count": 1,
   "metadata": {},
   "outputs": [],
   "source": [
    "import numpy as np\n",
    "import requests\n",
    "import time\n",
    "\n",
    "from pyspark import SQLContext, SparkContext\n",
    "from pyspark import SparkConf\n",
    "\n",
    "from pyspark.ml.feature import StandardScaler\n",
    "from pyspark.ml.feature import VectorAssembler\n",
    "from pyspark.ml.feature import StringIndexer\n",
    "from pyspark.ml.evaluation import MulticlassClassificationEvaluator\n",
    "from pyspark.mllib.evaluation import BinaryClassificationMetrics\n",
    "from pyspark.ml.linalg import Vectors\n",
    "\n",
    "from sklearn.cluster import KMeans\n",
    "from sklearn import metrics\n",
    "from sklearn.model_selection import StratifiedKFold\n",
    "\n",
    "from pyspark.mllib.tree import GradientBoostedTrees, GradientBoostedTreesModel\n",
    "from pyspark.mllib.util import MLUtils\n",
    "from pyspark.mllib.regression import LabeledPoint\n",
    "from pyspark.mllib.linalg import Vector as MLLibVector, Vectors as MLLibVectors\n",
    "\n",
    "%pylab inline"
   ]
  },
  {
   "cell_type": "code",
   "execution_count": 2,
   "metadata": {},
   "outputs": [],
   "source": [
    "# Load the dataset and labels\n",
    "x=np.load('Bx.npy')\n",
    "y=np.load('By.npy')"
   ]
  },
  {
   "cell_type": "code",
   "execution_count": 3,
   "metadata": {},
   "outputs": [],
   "source": [
    "conf = SparkConf()\n",
    "sc = SparkContext(conf = conf)\n",
    "spark = SQLContext(sc)"
   ]
  },
  {
   "cell_type": "code",
   "execution_count": 4,
   "metadata": {},
   "outputs": [],
   "source": [
    "# Calculate the rank of each feature\n",
    "R=[]\n",
    "for h in range(x.shape[1]):\n",
    "    kmeans = KMeans(init='k-means++', n_clusters=2) #The number of clusters is set to the number of classes in the dataset\n",
    "    ff=kmeans.fit_predict(x[:,h].reshape(-1,1))\n",
    "    r=metrics.homogeneity_score(y,ff) #Use the homogeneity score as a rank of the feature\n",
    "    R.append(r)"
   ]
  },
  {
   "cell_type": "code",
   "execution_count": 5,
   "metadata": {},
   "outputs": [],
   "source": [
    "#Arrange feature accroding to thier ranks\n",
    "Rnk=np.argsort(np.array(R))"
   ]
  },
  {
   "cell_type": "code",
   "execution_count": 6,
   "metadata": {},
   "outputs": [],
   "source": [
    "#Initiate the cross-validation splitter\n",
    "kfolds=StratifiedKFold(n_splits=5,shuffle=True)"
   ]
  },
  {
   "cell_type": "code",
   "execution_count": 7,
   "metadata": {},
   "outputs": [],
   "source": [
    "#Per each set of ranks, use cross-validation to calculate accuracy.\n",
    "smr=[]\n",
    "et=0\n",
    "for j in range(Rnk.shape[0]):\n",
    "    fd=x[:,Rnk[j:]]\n",
    "    pp=0\n",
    "    for train,test in kfolds.split(fd,y):\n",
    "        dff = map(lambda x: (int(float(x[-1])), Vectors.dense(x[:-1])),np.hstack((fd[train],y[train].reshape(-1,1))))\n",
    "        TrD = spark.createDataFrame(dff,schema=[\"label\", \"features\"]).rdd.map(lambda row: LabeledPoint(row.label, MLLibVectors.fromML(row.features)))\n",
    "        dff = map(lambda x: (int(float(x[-1])), Vectors.dense(x[:-1])),np.hstack((fd[test],y[test].reshape(-1,1))))\n",
    "        TsD = spark.createDataFrame(dff,schema=[\"label\", \"features\"]).rdd.map(lambda row: LabeledPoint(row.label, MLLibVectors.fromML(row.features)))\n",
    "        model = GradientBoostedTrees.trainClassifier(TrD,categoricalFeaturesInfo={})\n",
    "        predictions = model.predict(TsD.map(lambda x: x.features))\n",
    "        st = time.time()\n",
    "        labelsAndPredictions = TsD.map(lambda lp: lp.label).zip(predictions)\n",
    "        et+=time.time()-st\n",
    "        acc = labelsAndPredictions.filter(lambda lp: lp[0] == lp[1]).count() / float(TsD.count())\n",
    "        pp=pp+acc\n",
    "    pp=pp/kfolds.n_splits\n",
    "    smr.append([j, pp, et*1000000/x.shape[0]]) #Calculate the time required to predict a label per each object in uS."
   ]
  },
  {
   "cell_type": "code",
   "execution_count": 8,
   "metadata": {},
   "outputs": [
    {
     "data": {
      "text/plain": [
       "[[43.0, 0.9783, 0.7004],\n",
       " [42.0, 0.9784, 0.6417],\n",
       " [41.0, 0.9784, 0.6454],\n",
       " [40.0, 0.9783, 0.6319],\n",
       " [39.0, 0.9783, 0.6264],\n",
       " [38.0, 0.9783, 0.6465],\n",
       " [37.0, 0.9783, 0.5924],\n",
       " [36.0, 0.9783, 0.5868],\n",
       " [35.0, 0.9783, 0.5487],\n",
       " [34.0, 0.9783, 0.4774],\n",
       " [33.0, 0.9783, 0.4669],\n",
       " [32.0, 0.9783, 0.448],\n",
       " [31.0, 0.9783, 0.4151],\n",
       " [30.0, 0.979, 0.4286],\n",
       " [29.0, 0.9783, 0.4177],\n",
       " [28.0, 0.9787, 0.406],\n",
       " [27.0, 0.9785, 0.3952],\n",
       " [26.0, 0.9792, 0.3779],\n",
       " [25.0, 0.9788, 0.3642],\n",
       " [24.0, 0.9792, 0.3531],\n",
       " [23.0, 0.9782, 0.3495],\n",
       " [22.0, 0.9786, 0.3738],\n",
       " [21.0, 0.9787, 0.3368],\n",
       " [20.0, 0.9781, 0.3292],\n",
       " [19.0, 0.9781, 0.3251],\n",
       " [18.0, 0.9781, 0.3001],\n",
       " [17.0, 0.9782, 0.3005],\n",
       " [16.0, 0.9781, 0.2939],\n",
       " [15.0, 0.9781, 0.2796],\n",
       " [14.0, 0.978, 0.2822],\n",
       " [13.0, 0.9778, 0.274],\n",
       " [12.0, 0.9778, 0.2738],\n",
       " [11.0, 0.978, 0.2652],\n",
       " [10.0, 0.978, 0.2578],\n",
       " [9.0, 0.9763, 0.2521],\n",
       " [8.0, 0.9762, 0.2419],\n",
       " [7.0, 0.9763, 0.232],\n",
       " [6.0, 0.9762, 0.2244],\n",
       " [5.0, 0.9777, 0.2277],\n",
       " [4.0, 0.976, 0.2201],\n",
       " [3.0, 0.9767, 0.2],\n",
       " [2.0, 0.9739, 0.2019]]"
      ]
     },
     "execution_count": 9,
     "metadata": {},
     "output_type": "execute_result"
    }
   ],
   "source": [
    "smr"
   ]
  }
 ],
 "metadata": {
  "kernelspec": {
   "display_name": "Python 3",
   "language": "python",
   "name": "python3"
  },
  "language_info": {
   "codemirror_mode": {
    "name": "ipython",
    "version": 3
   },
   "file_extension": ".py",
   "mimetype": "text/x-python",
   "name": "python",
   "nbconvert_exporter": "python",
   "pygments_lexer": "ipython3",
   "version": "3.6.6"
  }
 },
 "nbformat": 4,
 "nbformat_minor": 2
}
