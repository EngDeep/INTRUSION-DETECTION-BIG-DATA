{
 "cells": [
  {
   "cell_type": "code",
   "execution_count": 1,
   "metadata": {},
   "outputs": [],
   "source": [
    "import numpy as np\n",
    "import requests\n",
    "import time\n",
    "\n",
    "from pyspark import SQLContext, SparkContext\n",
    "from pyspark import SparkConf\n",
    "\n",
    "from pyspark.ml.feature import StandardScaler\n",
    "from pyspark.ml.feature import VectorAssembler\n",
    "from pyspark.ml.feature import StringIndexer\n",
    "from pyspark.ml.evaluation import MulticlassClassificationEvaluator\n",
    "from pyspark.mllib.evaluation import BinaryClassificationMetrics\n",
    "from pyspark.ml.linalg import Vectors\n",
    "\n",
    "from sklearn.cluster import KMeans\n",
    "from sklearn import metrics\n",
    "from sklearn.model_selection import StratifiedKFold\n",
    "\n",
    "from pyspark.mllib.tree import GradientBoostedTrees, GradientBoostedTreesModel\n",
    "from pyspark.mllib.util import MLUtils\n",
    "from pyspark.mllib.regression import LabeledPoint\n",
    "from pyspark.mllib.linalg import Vector as MLLibVector, Vectors as MLLibVectors\n",
    "\n",
    "%pylab inline"
   ]
  },
  {
   "cell_type": "code",
   "execution_count": 2,
   "metadata": {},
   "outputs": [],
   "source": [
    "# Load the dataset and labels\n",
    "x=np.load('RBx.npy')\n",
    "y=np.load('RBy.npy')"
   ]
  },
  {
   "cell_type": "code",
   "execution_count": 3,
   "metadata": {},
   "outputs": [],
   "source": [
    "conf = SparkConf()\n",
    "sc = SparkContext(conf = conf)\n",
    "spark = SQLContext(sc)"
   ]
  },
  {
   "cell_type": "code",
   "execution_count": 4,
   "metadata": {},
   "outputs": [],
   "source": [
    "# Calculate the rank of each feature\n",
    "R=[]\n",
    "for h in range(x.shape[1]):\n",
    "    kmeans = KMeans(init='k-means++', n_clusters=2) #The number of clusters is set to the number of classes in the dataset\n",
    "    ff=kmeans.fit_predict(x[:,h].reshape(-1,1))\n",
    "    r=metrics.homogeneity_score(y,ff) #Use the homogeneity score as a rank of the feature\n",
    "    R.append(r)"
   ]
  },
  {
   "cell_type": "code",
   "execution_count": 5,
   "metadata": {},
   "outputs": [],
   "source": [
    "#Arrange feature accroding to thier ranks\n",
    "Rnk=np.argsort(np.array(R))"
   ]
  },
  {
   "cell_type": "code",
   "execution_count": 6,
   "metadata": {},
   "outputs": [],
   "source": [
    "#Initiate the cross-validation splitter\n",
    "kfolds=StratifiedKFold(n_splits=5,shuffle=True)"
   ]
  },
  {
   "cell_type": "code",
   "execution_count": 7,
   "metadata": {},
   "outputs": [],
   "source": [
    "#Per each set of ranks, use cross-validation to calculate accuracy.\n",
    "smr=[]\n",
    "et=0\n",
    "for j in range(Rnk.shape[0]):\n",
    "    fd=x[:,Rnk[j:]]\n",
    "    pp=0\n",
    "    for train,test in kfolds.split(fd,y):\n",
    "        dff = map(lambda x: (int(float(x[-1])), Vectors.dense(x[:-1])),np.hstack((fd[train],y[train].reshape(-1,1))))\n",
    "        TrD = spark.createDataFrame(dff,schema=[\"label\", \"features\"]).rdd.map(lambda row: LabeledPoint(row.label, MLLibVectors.fromML(row.features)))\n",
    "        dff = map(lambda x: (int(float(x[-1])), Vectors.dense(x[:-1])),np.hstack((fd[test],y[test].reshape(-1,1))))\n",
    "        TsD = spark.createDataFrame(dff,schema=[\"label\", \"features\"]).rdd.map(lambda row: LabeledPoint(row.label, MLLibVectors.fromML(row.features)))\n",
    "        model = GradientBoostedTrees.trainClassifier(TrD,categoricalFeaturesInfo={})\n",
    "        predictions = model.predict(TsD.map(lambda x: x.features))\n",
    "        st = time.time()\n",
    "        labelsAndPredictions = TsD.map(lambda lp: lp.label).zip(predictions)\n",
    "        et+=time.time()-st\n",
    "        acc = labelsAndPredictions.filter(lambda lp: lp[0] == lp[1]).count() / float(TsD.count())\n",
    "        pp=pp+acc\n",
    "    pp=pp/kfolds.n_splits\n",
    "    smr.append([j, pp, et*1000000/x.shape[0]]) #Calculate the time required to predict a label per each object in uS."
   ]
  },
  {
   "cell_type": "code",
   "execution_count": 8,
   "metadata": {},
   "outputs": [
    {
     "data": {
      "text/plain": [
       "[[78.0, 0.9981, 1.2364],\n",
       " [77.0, 0.9985, 1.3206],\n",
       " [76.0, 0.9984, 1.2237],\n",
       " [75.0, 0.9983, 1.2296],\n",
       " [74.0, 0.9987, 1.3585],\n",
       " [73.0, 0.9982, 1.4112],\n",
       " [72.0, 0.9986, 1.1899],\n",
       " [71.0, 0.9982, 1.4214],\n",
       " [70.0, 0.9986, 1.2776],\n",
       " [69.0, 0.9987, 1.1579],\n",
       " [68.0, 0.9945, 1.2549],\n",
       " [67.0, 0.9985, 1.1861],\n",
       " [66.0, 0.9986, 1.1219],\n",
       " [65.0, 0.9986, 1.1041],\n",
       " [64.0, 0.9983, 1.0913],\n",
       " [63.0, 0.9986, 1.1568],\n",
       " [62.0, 0.9983, 1.0731],\n",
       " [61.0, 0.9984, 1.0704],\n",
       " [60.0, 0.9985, 0.9544],\n",
       " [59.0, 0.9985, 1.0312],\n",
       " [58.0, 0.9986, 0.9482],\n",
       " [57.0, 0.9988, 0.9754],\n",
       " [56.0, 0.9982, 0.9373],\n",
       " [55.0, 0.9989, 1.0576],\n",
       " [54.0, 0.9985, 0.9346],\n",
       " [53.0, 0.9986, 0.8436],\n",
       " [52.0, 0.9985, 0.9957],\n",
       " [51.0, 0.9991, 0.9113],\n",
       " [50.0, 0.9986, 0.8748],\n",
       " [49.0, 0.9984, 0.8561],\n",
       " [48.0, 0.9986, 0.8666],\n",
       " [47.0, 0.9988, 0.867],\n",
       " [46.0, 0.9985, 0.7758],\n",
       " [45.0, 0.9987, 0.8213],\n",
       " [44.0, 0.9985, 0.7934],\n",
       " [43.0, 0.9985, 0.8011],\n",
       " [42.0, 0.9654, 0.7833],\n",
       " [41.0, 0.999, 0.8112],\n",
       " [40.0, 0.9654, 0.7811],\n",
       " [39.0, 0.9657, 0.8167],\n",
       " [38.0, 0.9989, 0.7811],\n",
       " [37.0, 0.9993, 0.6671],\n",
       " [36.0, 0.9993, 0.6806],\n",
       " [35.0, 0.9993, 0.635],\n",
       " [34.0, 0.9971, 0.6111],\n",
       " [33.0, 0.9994, 0.6419],\n",
       " [32.0, 0.9949, 0.5936],\n",
       " [31.0, 0.9975, 0.5728],\n",
       " [30.0, 0.9949, 0.6227],\n",
       " [29.0, 0.9989, 0.5698],\n",
       " [28.0, 0.9996, 0.5787],\n",
       " [27.0, 0.9995, 0.5517],\n",
       " [26.0, 0.9958, 0.5152],\n",
       " [25.0, 0.9997, 0.5425],\n",
       " [24.0, 0.9997, 0.5155],\n",
       " [23.0, 0.9997, 0.5357],\n",
       " [22.0, 0.9997, 0.4731],\n",
       " [21.0, 0.9997, 0.4958],\n",
       " [20.0, 0.9987, 0.4686],\n",
       " [19.0, 0.9987, 0.4664],\n",
       " [18.0, 0.9987, 0.4497],\n",
       " [17.0, 0.9987, 0.4675],\n",
       " [16.0, 0.9987, 0.409],\n",
       " [15.0, 0.9989, 0.4147],\n",
       " [14.0, 0.9989, 0.427],\n",
       " [13.0, 0.999, 0.3733],\n",
       " [12.0, 0.999, 0.3676],\n",
       " [11.0, 0.999, 0.3465],\n",
       " [10.0, 0.9991, 0.3437],\n",
       " [9.0, 0.9992, 0.3126],\n",
       " [8.0, 0.9992, 0.3437],\n",
       " [7.0, 0.9991, 0.3287],\n",
       " [6.0, 0.9991, 0.3148],\n",
       " [5.0, 0.999, 0.2702],\n",
       " [4.0, 0.999, 0.2656],\n",
       " [3.0, 0.9985, 0.2513],\n",
       " [2.0, 0.9993, 0.254]]"
      ]
     },
     "execution_count": 9,
     "metadata": {},
     "output_type": "execute_result"
    }
   ],
   "source": [
    "smr"
   ]
  }
 ],
 "metadata": {
  "kernelspec": {
   "display_name": "Python 3",
   "language": "python",
   "name": "python3"
  },
  "language_info": {
   "codemirror_mode": {
    "name": "ipython",
    "version": 3
   },
   "file_extension": ".py",
   "mimetype": "text/x-python",
   "name": "python",
   "nbconvert_exporter": "python",
   "pygments_lexer": "ipython3",
   "version": "3.6.6"
  }
 },
 "nbformat": 4,
 "nbformat_minor": 2
}
